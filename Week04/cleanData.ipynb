{
 "cells": [
  {
   "cell_type": "code",
   "execution_count": 9,
   "id": "9e0abb06",
   "metadata": {},
   "outputs": [],
   "source": [
    "# Importing the libraries\n",
    "import pandas as pd"
   ]
  },
  {
   "cell_type": "code",
   "execution_count": 10,
   "id": "267fbe57",
   "metadata": {},
   "outputs": [],
   "source": [
    "dataset = pd.read_csv('price.csv')"
   ]
  },
  {
   "cell_type": "code",
   "execution_count": 11,
   "id": "1bc1c830",
   "metadata": {},
   "outputs": [],
   "source": [
    "# Handle missing values\n",
    "dataset['bed_room'].fillna(0, inplace=True)\n",
    "dataset['area'].fillna(dataset['area'].mean(), inplace=True)"
   ]
  },
  {
   "cell_type": "code",
   "execution_count": 12,
   "id": "856d7a0f",
   "metadata": {},
   "outputs": [],
   "source": [
    "# Remove duplicates\n",
    "dataset.drop_duplicates(inplace=True)"
   ]
  },
  {
   "cell_type": "code",
   "execution_count": 13,
   "id": "4d8ac24c",
   "metadata": {},
   "outputs": [],
   "source": [
    "# Convert categorical data\n",
    "def convert_to_int(word):\n",
    "    word_dict = {'one': 1, 'two': 2, 'three': 3, 'four': 4, 'five': 5, 'six': 6, 'seven': 7, 'eight': 8,\n",
    "                 'nine': 9, 'ten': 10, 'eleven': 11, 'twelve': 12, 'zero': 0, 0: 0}\n",
    "    return word_dict[word]"
   ]
  },
  {
   "cell_type": "code",
   "execution_count": 14,
   "id": "0f0f5f56",
   "metadata": {},
   "outputs": [],
   "source": [
    "dataset['bed_room'] = dataset['bed_room'].apply(lambda x: convert_to_int(x))"
   ]
  },
  {
   "cell_type": "code",
   "execution_count": 15,
   "id": "0f66a345",
   "metadata": {},
   "outputs": [],
   "source": [
    "dataset.to_csv('cleaned_price.csv', index=False)"
   ]
  },
  {
   "cell_type": "code",
   "execution_count": null,
   "id": "129fd26b",
   "metadata": {},
   "outputs": [],
   "source": []
  }
 ],
 "metadata": {
  "kernelspec": {
   "display_name": "Python 3 (ipykernel)",
   "language": "python",
   "name": "python3"
  },
  "language_info": {
   "codemirror_mode": {
    "name": "ipython",
    "version": 3
   },
   "file_extension": ".py",
   "mimetype": "text/x-python",
   "name": "python",
   "nbconvert_exporter": "python",
   "pygments_lexer": "ipython3",
   "version": "3.10.9"
  }
 },
 "nbformat": 4,
 "nbformat_minor": 5
}
